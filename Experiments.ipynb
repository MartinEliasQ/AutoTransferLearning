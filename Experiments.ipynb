{
 "cells": [
  {
   "cell_type": "code",
   "execution_count": 1,
   "metadata": {},
   "outputs": [
    {
     "name": "stderr",
     "output_type": "stream",
     "text": [
      "/home/martin/anaconda3/envs/tensorflow35/lib/python3.5/site-packages/sklearn/cross_validation.py:41: DeprecationWarning: This module was deprecated in version 0.18 in favor of the model_selection module into which all the refactored classes and functions are moved. Also note that the interface of the new CV iterators are different from that of this module. This module will be removed in 0.20.\n",
      "  \"This module will be removed in 0.20.\", DeprecationWarning)\n"
     ]
    }
   ],
   "source": [
    "from AutoTransferLearning.Preprocessing import Preprocessing\n",
    "\n"
   ]
  },
  {
   "cell_type": "code",
   "execution_count": 2,
   "metadata": {},
   "outputs": [],
   "source": [
    "args_exp1 = {\n",
    "    \"data_folder\":\"./data\",\n",
    "    \"faces_folder\":\"./faces\",\n",
    "    \"video_folder\":\"./videos\",\n",
    "    \"ratio_capture\":200,\n",
    "    \"train_folder\":\"./sets/train\",\n",
    "    \"valid_folder\":\"./sets/valid\",\n",
    "    \"test_folder\":\"./sets/test\",\n",
    "    \"set_folder\":\"./sets\",\n",
    "    \"cascade_path\":\"\"\n",
    "    \n",
    "}\n",
    "Exp1 = Preprocessing(args_exp1)"
   ]
  },
  {
   "cell_type": "code",
   "execution_count": null,
   "metadata": {},
   "outputs": [
    {
     "name": "stdout",
     "output_type": "stream",
     "text": [
      "All  videos was convert in frames\n",
      "All  videos was convert in frames\n",
      "All  videos was convert in frames\n",
      "All  videos was convert in frames\n",
      "All  videos was convert in frames\n",
      "All  videos was convert in frames\n",
      "All  videos was convert in frames\n",
      "All  videos was convert in frames\n",
      "All  videos was convert in frames\n",
      "All  videos was convert in frames\n",
      "All  videos was convert in frames\n",
      "All  videos was convert in frames\n",
      "All  videos was convert in frames\n",
      "All  videos was convert in frames\n",
      "All  videos was convert in frames\n",
      "All  videos was convert in frames\n",
      "All  videos was convert in frames\n",
      "All  videos was convert in frames\n"
     ]
    }
   ],
   "source": [
    "Exp1.generate_dataset(True,True)"
   ]
  },
  {
   "cell_type": "code",
   "execution_count": 4,
   "metadata": {},
   "outputs": [],
   "source": [
    "from AutoTransferLearning.AutoTransferLearning import Faceudea\n",
    "FU1 = Faceudea({\n",
    "    \"pretrained_model\":\"VGG16\",\n",
    "    \"image_size\": 299,\n",
    "    \"freeze_layers\":2,\n",
    "    \"preprocessing\":Exp1\n",
    "    })\n",
    "\n",
    "layers = list()\n",
    "layers.append([\"Dense\",1024,\"relu\"])\n",
    "layers.append([\"Dropout\",0.5])\n",
    "layers.append([\"Dense\",2,\"softmax\"])\n"
   ]
  },
  {
   "cell_type": "code",
   "execution_count": 5,
   "metadata": {},
   "outputs": [
    {
     "name": "stdout",
     "output_type": "stream",
     "text": [
      "VGG16\n",
      "Layers Freezed OK!\n",
      "This is the layer: ['Dense', 1024, 'relu']\n",
      "Added Dense Layer\n",
      "Layers Added\n",
      "This is the layer: ['Dropout', 0.5]\n",
      "Added Dropout Layer\n",
      "Layers Added\n",
      "This is the layer: ['Dense', 2, 'softmax']\n",
      "Added Dense Layer\n",
      "Layers Added\n"
     ]
    }
   ],
   "source": [
    "FU1.create_classifier(layers)"
   ]
  },
  {
   "cell_type": "code",
   "execution_count": 6,
   "metadata": {},
   "outputs": [
    {
     "name": "stdout",
     "output_type": "stream",
     "text": [
      "Found 32 images belonging to 2 classes.\n",
      "Found 16 images belonging to 2 classes.\n",
      "Found 115 images belonging to 2 classes.\n",
      "Epoch 1/1\n",
      "\r",
      "1/6 [===>..........................] - ETA: 13s - loss: 0.6720 - acc: 0.5000\b\b\b\b\b\b\b\b\b\b\b\b\b\b\b\b\b\b\b\b\b\b\b\b\b\b\b\b\b\b\b\b\b\b\b\b\b\b\b\b\b\b\b\b\b\b\b\b\b\b\b\b\b\b\b\b\b\b\b\b\b\b\b\b\b\b\b\b\b\b\b\b\b\b\b\b\r",
      "2/6 [========>.....................] - ETA: 10s - loss: 0.9878 - acc: 0.6500\b\b\b\b\b\b\b\b\b\b\b\b\b\b\b\b\b\b\b\b\b\b\b\b\b\b\b\b\b\b\b\b\b\b\b\b\b\b\b\b\b\b\b\b\b\b\b\b\b\b\b\b\b\b\b\b\b\b\b\b\b\b\b\b\b\b\b\b\b\b\b\b\b\b\b\b\r",
      "3/6 [=============>................] - ETA: 8s - loss: 1.8742 - acc: 0.6333 \b\b\b\b\b\b\b\b\b\b\b\b\b\b\b\b\b\b\b\b\b\b\b\b\b\b\b\b\b\b\b\b\b\b\b\b\b\b\b\b\b\b\b\b\b\b\b\b\b\b\b\b\b\b\b\b\b\b\b\b\b\b\b\b\b\b\b\b\b\b\b\b\b\b\b\r",
      "4/6 [=================>............] - ETA: 6s - loss: 1.6476 - acc: 0.6750\b\b\b\b\b\b\b\b\b\b\b\b\b\b\b\b\b\b\b\b\b\b\b\b\b\b\b\b\b\b\b\b\b\b\b\b\b\b\b\b\b\b\b\b\b\b\b\b\b\b\b\b\b\b\b\b\b\b\b\b\b\b\b\b\b\b\b\b\b\b\b\b\b\b\b\r",
      "5/6 [======================>.......] - ETA: 3s - loss: 1.3307 - acc: 0.7400\b\b\b\b\b\b\b\b\b\b\b\b\b\b\b\b\b\b\b\b\b\b\b\b\b\b\b\b\b\b\b\b\b\b\b\b\b\b\b\b\b\b\b\b\b\b\b\b\b\b\b\b\b\b\b\b\b\b\b\b\b\b\b\b\b\b\b\b\b\b\b\b\b\b\b\r",
      "6/6 [===========================>..] - ETA: 1s - loss: 1.5489 - acc: 0.6500\b\b\b\b\b\b\b\b\b\b\b\b\b\b\b\b\b\b\b\b\b\b\b\b\b\b\b\b\b\b\b\b\b\b\b\b\b\b\b\b\b\b\b\b\b\b\b\b\b\b\b\b\b\b\b\b\b\b\b\b\b\b\b\b\b\b\b\b\b\b\b\b\b\b\b\r",
      "7/6 [================================] - 36s 5s/step - loss: 1.9441 - acc: 0.6156 - val_loss: 1.8192 - val_acc: 0.5000\n",
      "Done!\n"
     ]
    }
   ],
   "source": [
    "FU1.train(5,5,5,1)"
   ]
  },
  {
   "cell_type": "code",
   "execution_count": 8,
   "metadata": {},
   "outputs": [
    {
     "data": {
      "text/plain": [
       "<tf.Tensor 'dense_2/Softmax:0' shape=(?, 2) dtype=float32>"
      ]
     },
     "execution_count": 8,
     "metadata": {},
     "output_type": "execute_result"
    }
   ],
   "source": [
    "FU1.classifier.output"
   ]
  }
 ],
 "metadata": {
  "kernelspec": {
   "display_name": "Python 3",
   "language": "python",
   "name": "python3"
  },
  "language_info": {
   "codemirror_mode": {
    "name": "ipython",
    "version": 3
   },
   "file_extension": ".py",
   "mimetype": "text/x-python",
   "name": "python",
   "nbconvert_exporter": "python",
   "pygments_lexer": "ipython3",
   "version": "3.5.5"
  }
 },
 "nbformat": 4,
 "nbformat_minor": 2
}
